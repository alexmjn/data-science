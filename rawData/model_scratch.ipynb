{
  "nbformat": 4,
  "nbformat_minor": 0,
  "metadata": {
    "colab": {
      "name": "Untitled7.ipynb",
      "provenance": []
    },
    "kernelspec": {
      "name": "python3",
      "display_name": "Python 3"
    }
  },
  "cells": [
    {
      "cell_type": "code",
      "metadata": {
        "id": "_lu0U-Uc-l72",
        "colab_type": "code",
        "colab": {
          "base_uri": "https://localhost:8080/",
          "height": 329
        },
        "outputId": "ce688377-0ae1-4876-d143-c9873d78d50e"
      },
      "source": [
        "# Check if GPU active\n",
        "!nvidia-smi"
      ],
      "execution_count": 2,
      "outputs": [
        {
          "output_type": "stream",
          "text": [
            "Wed Mar  4 01:36:41 2020       \n",
            "+-----------------------------------------------------------------------------+\n",
            "| NVIDIA-SMI 440.48.02    Driver Version: 418.67       CUDA Version: 10.1     |\n",
            "|-------------------------------+----------------------+----------------------+\n",
            "| GPU  Name        Persistence-M| Bus-Id        Disp.A | Volatile Uncorr. ECC |\n",
            "| Fan  Temp  Perf  Pwr:Usage/Cap|         Memory-Usage | GPU-Util  Compute M. |\n",
            "|===============================+======================+======================|\n",
            "|   0  Tesla T4            Off  | 00000000:00:04.0 Off |                    0 |\n",
            "| N/A   32C    P8     9W /  70W |      0MiB / 15079MiB |      0%      Default |\n",
            "+-------------------------------+----------------------+----------------------+\n",
            "                                                                               \n",
            "+-----------------------------------------------------------------------------+\n",
            "| Processes:                                                       GPU Memory |\n",
            "|  GPU       PID   Type   Process name                             Usage      |\n",
            "|=============================================================================|\n",
            "|  No running processes found                                                 |\n",
            "+-----------------------------------------------------------------------------+\n"
          ],
          "name": "stdout"
        }
      ]
    },
    {
      "cell_type": "code",
      "metadata": {
        "id": "IyaqgNax8OLX",
        "colab_type": "code",
        "colab": {}
      },
      "source": [
        "import pandas as pd\n",
        "import numpy as np"
      ],
      "execution_count": 0,
      "outputs": []
    },
    {
      "cell_type": "code",
      "metadata": {
        "id": "zX_5hwU-7sOD",
        "colab_type": "code",
        "colab": {
          "base_uri": "https://localhost:8080/",
          "height": 383
        },
        "outputId": "a5842aa4-5051-43b3-9c75-343af9c96bb3"
      },
      "source": [
        "\n",
        "data = \"https://raw.githubusercontent.com/spotify-song-suggester-6/data-science/develop/rawData/SpotifyAudioFeaturesApril2019.csv\"\n",
        "\n",
        "df = pd.read_csv( data)\n",
        "\n",
        "df.head()"
      ],
      "execution_count": 3,
      "outputs": [
        {
          "output_type": "execute_result",
          "data": {
            "text/html": [
              "<div>\n",
              "<style scoped>\n",
              "    .dataframe tbody tr th:only-of-type {\n",
              "        vertical-align: middle;\n",
              "    }\n",
              "\n",
              "    .dataframe tbody tr th {\n",
              "        vertical-align: top;\n",
              "    }\n",
              "\n",
              "    .dataframe thead th {\n",
              "        text-align: right;\n",
              "    }\n",
              "</style>\n",
              "<table border=\"1\" class=\"dataframe\">\n",
              "  <thead>\n",
              "    <tr style=\"text-align: right;\">\n",
              "      <th></th>\n",
              "      <th>artist_name</th>\n",
              "      <th>track_id</th>\n",
              "      <th>track_name</th>\n",
              "      <th>acousticness</th>\n",
              "      <th>danceability</th>\n",
              "      <th>duration_ms</th>\n",
              "      <th>energy</th>\n",
              "      <th>instrumentalness</th>\n",
              "      <th>key</th>\n",
              "      <th>liveness</th>\n",
              "      <th>loudness</th>\n",
              "      <th>mode</th>\n",
              "      <th>speechiness</th>\n",
              "      <th>tempo</th>\n",
              "      <th>time_signature</th>\n",
              "      <th>valence</th>\n",
              "      <th>popularity</th>\n",
              "    </tr>\n",
              "  </thead>\n",
              "  <tbody>\n",
              "    <tr>\n",
              "      <th>0</th>\n",
              "      <td>YG</td>\n",
              "      <td>2RM4jf1Xa9zPgMGRDiht8O</td>\n",
              "      <td>Big Bank feat. 2 Chainz, Big Sean, Nicki Minaj</td>\n",
              "      <td>0.005820</td>\n",
              "      <td>0.743</td>\n",
              "      <td>238373</td>\n",
              "      <td>0.339</td>\n",
              "      <td>0.000</td>\n",
              "      <td>1</td>\n",
              "      <td>0.0812</td>\n",
              "      <td>-7.678</td>\n",
              "      <td>1</td>\n",
              "      <td>0.4090</td>\n",
              "      <td>203.927</td>\n",
              "      <td>4</td>\n",
              "      <td>0.118</td>\n",
              "      <td>15</td>\n",
              "    </tr>\n",
              "    <tr>\n",
              "      <th>1</th>\n",
              "      <td>YG</td>\n",
              "      <td>1tHDG53xJNGsItRA3vfVgs</td>\n",
              "      <td>BAND DRUM (feat. A$AP Rocky)</td>\n",
              "      <td>0.024400</td>\n",
              "      <td>0.846</td>\n",
              "      <td>214800</td>\n",
              "      <td>0.557</td>\n",
              "      <td>0.000</td>\n",
              "      <td>8</td>\n",
              "      <td>0.2860</td>\n",
              "      <td>-7.259</td>\n",
              "      <td>1</td>\n",
              "      <td>0.4570</td>\n",
              "      <td>159.009</td>\n",
              "      <td>4</td>\n",
              "      <td>0.371</td>\n",
              "      <td>0</td>\n",
              "    </tr>\n",
              "    <tr>\n",
              "      <th>2</th>\n",
              "      <td>R3HAB</td>\n",
              "      <td>6Wosx2euFPMT14UXiWudMy</td>\n",
              "      <td>Radio Silence</td>\n",
              "      <td>0.025000</td>\n",
              "      <td>0.603</td>\n",
              "      <td>138913</td>\n",
              "      <td>0.723</td>\n",
              "      <td>0.000</td>\n",
              "      <td>9</td>\n",
              "      <td>0.0824</td>\n",
              "      <td>-5.890</td>\n",
              "      <td>0</td>\n",
              "      <td>0.0454</td>\n",
              "      <td>114.966</td>\n",
              "      <td>4</td>\n",
              "      <td>0.382</td>\n",
              "      <td>56</td>\n",
              "    </tr>\n",
              "    <tr>\n",
              "      <th>3</th>\n",
              "      <td>Chris Cooq</td>\n",
              "      <td>3J2Jpw61sO7l6Hc7qdYV91</td>\n",
              "      <td>Lactose</td>\n",
              "      <td>0.029400</td>\n",
              "      <td>0.800</td>\n",
              "      <td>125381</td>\n",
              "      <td>0.579</td>\n",
              "      <td>0.912</td>\n",
              "      <td>5</td>\n",
              "      <td>0.0994</td>\n",
              "      <td>-12.118</td>\n",
              "      <td>0</td>\n",
              "      <td>0.0701</td>\n",
              "      <td>123.003</td>\n",
              "      <td>4</td>\n",
              "      <td>0.641</td>\n",
              "      <td>0</td>\n",
              "    </tr>\n",
              "    <tr>\n",
              "      <th>4</th>\n",
              "      <td>Chris Cooq</td>\n",
              "      <td>2jbYvQCyPgX3CdmAzeVeuS</td>\n",
              "      <td>Same - Original mix</td>\n",
              "      <td>0.000035</td>\n",
              "      <td>0.783</td>\n",
              "      <td>124016</td>\n",
              "      <td>0.792</td>\n",
              "      <td>0.878</td>\n",
              "      <td>7</td>\n",
              "      <td>0.0332</td>\n",
              "      <td>-10.277</td>\n",
              "      <td>1</td>\n",
              "      <td>0.0661</td>\n",
              "      <td>120.047</td>\n",
              "      <td>4</td>\n",
              "      <td>0.928</td>\n",
              "      <td>0</td>\n",
              "    </tr>\n",
              "  </tbody>\n",
              "</table>\n",
              "</div>"
            ],
            "text/plain": [
              "  artist_name                track_id  ... valence  popularity\n",
              "0          YG  2RM4jf1Xa9zPgMGRDiht8O  ...   0.118          15\n",
              "1          YG  1tHDG53xJNGsItRA3vfVgs  ...   0.371           0\n",
              "2       R3HAB  6Wosx2euFPMT14UXiWudMy  ...   0.382          56\n",
              "3  Chris Cooq  3J2Jpw61sO7l6Hc7qdYV91  ...   0.641           0\n",
              "4  Chris Cooq  2jbYvQCyPgX3CdmAzeVeuS  ...   0.928           0\n",
              "\n",
              "[5 rows x 17 columns]"
            ]
          },
          "metadata": {
            "tags": []
          },
          "execution_count": 3
        }
      ]
    },
    {
      "cell_type": "code",
      "metadata": {
        "id": "9ZkwdZ-kdlFF",
        "colab_type": "code",
        "colab": {
          "base_uri": "https://localhost:8080/",
          "height": 35
        },
        "outputId": "dc5d9dfd-b579-4ec1-84ff-bce65a36ee22"
      },
      "source": [
        "df.shape"
      ],
      "execution_count": 3,
      "outputs": [
        {
          "output_type": "execute_result",
          "data": {
            "text/plain": [
              "(130663, 17)"
            ]
          },
          "metadata": {
            "tags": []
          },
          "execution_count": 3
        }
      ]
    },
    {
      "cell_type": "code",
      "metadata": {
        "id": "Ak-xVqs02TWS",
        "colab_type": "code",
        "colab": {}
      },
      "source": [
        "\n",
        "x = df.drop( columns= {'track_id', 'artist_name', 'track_name', 'duration_ms'})\n",
        "y = df[ 'track_id']"
      ],
      "execution_count": 0,
      "outputs": []
    },
    {
      "cell_type": "code",
      "metadata": {
        "id": "fiDNKzD_1VwL",
        "colab_type": "code",
        "colab": {
          "base_uri": "https://localhost:8080/",
          "height": 348
        },
        "outputId": "c2bedff5-1d14-4701-f60e-669f5bf4e52c"
      },
      "source": [
        "\n",
        "df.iloc[2526]"
      ],
      "execution_count": 4,
      "outputs": [
        {
          "output_type": "execute_result",
          "data": {
            "text/plain": [
              "artist_name                                           Antonio Vivaldi\n",
              "track_id                                       2u2L0LxJ2aEOEjYDJ90Tpo\n",
              "track_name          The Four Seasons, Op. 8: Violin Concerto in F ...\n",
              "acousticness                                                    0.756\n",
              "danceability                                                    0.177\n",
              "duration_ms                                                    121707\n",
              "energy                                                         0.0447\n",
              "instrumentalness                                               0.0882\n",
              "key                                                                 5\n",
              "liveness                                                       0.0858\n",
              "loudness                                                      -27.245\n",
              "mode                                                                1\n",
              "speechiness                                                    0.0402\n",
              "tempo                                                          70.013\n",
              "time_signature                                                      3\n",
              "valence                                                        0.0361\n",
              "popularity                                                         14\n",
              "Name: 2526, dtype: object"
            ]
          },
          "metadata": {
            "tags": []
          },
          "execution_count": 4
        }
      ]
    },
    {
      "cell_type": "code",
      "metadata": {
        "id": "cxKG9nOqVcrI",
        "colab_type": "code",
        "colab": {
          "base_uri": "https://localhost:8080/",
          "height": 274
        },
        "outputId": "d9893c59-c059-4c56-82b4-a7e44ceea3e9"
      },
      "source": [
        "\n",
        "sample = df.drop( columns= {'track_id', 'artist_name', 'track_name', 'duration_ms'}).iloc[2526]\n",
        "\n",
        "sample"
      ],
      "execution_count": 5,
      "outputs": [
        {
          "output_type": "execute_result",
          "data": {
            "text/plain": [
              "acousticness         0.7560\n",
              "danceability         0.1770\n",
              "energy               0.0447\n",
              "instrumentalness     0.0882\n",
              "key                  5.0000\n",
              "liveness             0.0858\n",
              "loudness           -27.2450\n",
              "mode                 1.0000\n",
              "speechiness          0.0402\n",
              "tempo               70.0130\n",
              "time_signature       3.0000\n",
              "valence              0.0361\n",
              "popularity          14.0000\n",
              "Name: 2526, dtype: float64"
            ]
          },
          "metadata": {
            "tags": []
          },
          "execution_count": 5
        }
      ]
    },
    {
      "cell_type": "code",
      "metadata": {
        "id": "0EJ5tN9FDZpM",
        "colab_type": "code",
        "colab": {}
      },
      "source": [
        "## STRAIGHT KNN ATTEMPT:"
      ],
      "execution_count": 0,
      "outputs": []
    },
    {
      "cell_type": "code",
      "metadata": {
        "id": "c2F45CgESpg4",
        "colab_type": "code",
        "colab": {}
      },
      "source": [
        "from sklearn.model_selection import train_test_split, cross_val_predict, cross_val_score\n",
        "from sklearn.neighbors import KNeighborsClassifier"
      ],
      "execution_count": 0,
      "outputs": []
    },
    {
      "cell_type": "code",
      "metadata": {
        "id": "5I6GCkga7sLn",
        "colab_type": "code",
        "colab": {
          "base_uri": "https://localhost:8080/",
          "height": 35
        },
        "outputId": "aa521139-af7e-4ae4-a838-50588c083330"
      },
      "source": [
        "\n",
        "xTrain, xTest, yTrain, yTest = train_test_split( x, y, test_size= .2)\n",
        "\n",
        "xTrain.shape, xTest.shape, yTrain.shape, yTest.shape"
      ],
      "execution_count": 7,
      "outputs": [
        {
          "output_type": "execute_result",
          "data": {
            "text/plain": [
              "((104530, 13), (26133, 13), (104530,), (26133,))"
            ]
          },
          "metadata": {
            "tags": []
          },
          "execution_count": 7
        }
      ]
    },
    {
      "cell_type": "code",
      "metadata": {
        "id": "RXqaxCR7t1p8",
        "colab_type": "code",
        "colab": {
          "base_uri": "https://localhost:8080/",
          "height": 72
        },
        "outputId": "4dc7827b-3629-47a4-9450-50de2afff58c"
      },
      "source": [
        "\n",
        "knn = KNeighborsClassifier( n_neighbors= 8,   \n",
        "                            weights= 'uniform',  \n",
        "                            algorithm= 'auto', \n",
        "                            leaf_size= 32,\n",
        "                            p= 2, \n",
        "                            n_jobs= -1\n",
        ")\n",
        "knn.fit( xTrain, yTrain)"
      ],
      "execution_count": 9,
      "outputs": [
        {
          "output_type": "execute_result",
          "data": {
            "text/plain": [
              "KNeighborsClassifier(algorithm='auto', leaf_size=32, metric='minkowski',\n",
              "                     metric_params=None, n_jobs=-1, n_neighbors=8, p=2,\n",
              "                     weights='uniform')"
            ]
          },
          "metadata": {
            "tags": []
          },
          "execution_count": 9
        }
      ]
    },
    {
      "cell_type": "code",
      "metadata": {
        "id": "zaDLM2-cyHFD",
        "colab_type": "code",
        "colab": {
          "base_uri": "https://localhost:8080/",
          "height": 109
        },
        "outputId": "08653076-9471-4af5-ce92-227f4f79c774"
      },
      "source": [
        "\n",
        "# After fitting, run prediction on xTest subset, and return top 10?\n",
        "results = knn.predict( xTest)[0:10]\n",
        "\n",
        "print( results)"
      ],
      "execution_count": 10,
      "outputs": [
        {
          "output_type": "stream",
          "text": [
            "['0NLppQWVulM7aVODrrimrW' '3HytV6KvmMlb7m9h5Ku492'\n",
            " '13uBL8TBoO7ThME4EB4sMT' '0afqYxxJH8D0ZYgMEyD2xb'\n",
            " '1ZLY3ZTRwW7vNjcm50wvkT' '07HU9ata6MbzBFMOy43xAJ'\n",
            " '013TFRzJWkT41RRSgSenfI' '0xg7HkBSt47X7Fj8bztbqo'\n",
            " '0VqRfTR1NUPAFbikGN08N8' '1BCkIYJWvhekqxF8NCGfgp']\n"
          ],
          "name": "stdout"
        }
      ]
    },
    {
      "cell_type": "code",
      "metadata": {
        "id": "xXtIJiQpt1n6",
        "colab_type": "code",
        "colab": {
          "base_uri": "https://localhost:8080/",
          "height": 35
        },
        "outputId": "737cb8db-01ff-485a-bba0-d0a8c1cb18cd"
      },
      "source": [
        "knn.score( xTest, yTest)"
      ],
      "execution_count": 11,
      "outputs": [
        {
          "output_type": "execute_result",
          "data": {
            "text/plain": [
              "0.0007270500899246164"
            ]
          },
          "metadata": {
            "tags": []
          },
          "execution_count": 11
        }
      ]
    },
    {
      "cell_type": "code",
      "metadata": {
        "id": "2F8dFH0Et1h_",
        "colab_type": "code",
        "colab": {
          "base_uri": "https://localhost:8080/",
          "height": 110
        },
        "outputId": "caa7fb70-de88-4627-8ef0-4cd69453c550"
      },
      "source": [
        "cvTest = cross_val_score( knn, x, y, cv= 3)\n",
        "print( cvTest)\n",
        "print( 'mean: {:.5f}%'.format( np.mean( cvTest) *100))"
      ],
      "execution_count": 13,
      "outputs": [
        {
          "output_type": "stream",
          "text": [
            "/usr/local/lib/python3.6/dist-packages/sklearn/model_selection/_split.py:667: UserWarning: The least populated class in y has only 1 members, which is less than n_splits=3.\n",
            "  % (min_groups, self.n_splits)), UserWarning)\n"
          ],
          "name": "stderr"
        },
        {
          "output_type": "stream",
          "text": [
            "[0.00066582 0.00066584 0.00064288]\n",
            "mean: 0.06582%\n"
          ],
          "name": "stdout"
        }
      ]
    },
    {
      "cell_type": "code",
      "metadata": {
        "id": "OhwjcP11EYFD",
        "colab_type": "code",
        "colab": {
          "base_uri": "https://localhost:8080/",
          "height": 72
        },
        "outputId": "2d3f7ee8-4488-4a76-c4fe-12180cc7a4a9"
      },
      "source": [
        "\n",
        "knn = KNeighborsClassifier( n_neighbors= 16,   \n",
        "                            weights= 'distance',  \n",
        "                            algorithm= 'kd_tree',  \n",
        "                            leaf_size= 256,\n",
        "                            p= 2, \n",
        "                            n_jobs= -1\n",
        ")\n",
        "knn.fit( xTrain, yTrain)"
      ],
      "execution_count": 14,
      "outputs": [
        {
          "output_type": "execute_result",
          "data": {
            "text/plain": [
              "KNeighborsClassifier(algorithm='kd_tree', leaf_size=256, metric='minkowski',\n",
              "                     metric_params=None, n_jobs=-1, n_neighbors=16, p=2,\n",
              "                     weights='distance')"
            ]
          },
          "metadata": {
            "tags": []
          },
          "execution_count": 14
        }
      ]
    },
    {
      "cell_type": "code",
      "metadata": {
        "id": "Wm5hz0H0FA9S",
        "colab_type": "code",
        "colab": {
          "base_uri": "https://localhost:8080/",
          "height": 109
        },
        "outputId": "95a38ede-f799-4400-b067-8753cd83010e"
      },
      "source": [
        "\n",
        "# After fitting, run prediction on xTest subset, and return top 10?\n",
        "results = knn.predict( xTest)[0:10]\n",
        "\n",
        "print( results)"
      ],
      "execution_count": 16,
      "outputs": [
        {
          "output_type": "stream",
          "text": [
            "['3yrjmCDexSiDWCmvozHuHC' '6t2QY6vgSrXpJRBY4EQkrL'\n",
            " '3RK60inxAxrJVdZtdqRjNt' '4UeM1bbFkRfJZ5BnwQ2OvC'\n",
            " '6uzv7ZcwreLiA7DSS3Ju38' '7Ft1qhUD42q8uRpkxpOClo'\n",
            " '013TFRzJWkT41RRSgSenfI' '2a9w6WnGmcFify7nCR5j2B'\n",
            " '6iGAk5TizZBLkduf0KQDPD' '5N52lSaVZ5aG4YuXu7pTzJ']\n"
          ],
          "name": "stdout"
        }
      ]
    },
    {
      "cell_type": "code",
      "metadata": {
        "id": "vylVLaWWEX0W",
        "colab_type": "code",
        "colab": {
          "base_uri": "https://localhost:8080/",
          "height": 35
        },
        "outputId": "91fe90d2-f682-4201-d808-ca4809fb25ca"
      },
      "source": [
        "knn.score( xTest, yTest)"
      ],
      "execution_count": 17,
      "outputs": [
        {
          "output_type": "execute_result",
          "data": {
            "text/plain": [
              "0.0042857689511345805"
            ]
          },
          "metadata": {
            "tags": []
          },
          "execution_count": 17
        }
      ]
    },
    {
      "cell_type": "code",
      "metadata": {
        "id": "JxPQlpmIt1kg",
        "colab_type": "code",
        "colab": {
          "base_uri": "https://localhost:8080/",
          "height": 110
        },
        "outputId": "c1680e4d-c254-4ae7-ac4c-3aeb82b0da0c"
      },
      "source": [
        "cvTest = cross_val_score( knn, x, y, cv= 3)\n",
        "print( cvTest)\n",
        "print( 'mean: {:.5f}%'.format( np.mean( cvTest) *100))"
      ],
      "execution_count": 18,
      "outputs": [
        {
          "output_type": "stream",
          "text": [
            "/usr/local/lib/python3.6/dist-packages/sklearn/model_selection/_split.py:667: UserWarning: The least populated class in y has only 1 members, which is less than n_splits=3.\n",
            "  % (min_groups, self.n_splits)), UserWarning)\n"
          ],
          "name": "stderr"
        },
        {
          "output_type": "stream",
          "text": [
            "[0.00507404 0.0049364  0.00518896]\n",
            "mean: 0.50665%\n"
          ],
          "name": "stdout"
        }
      ]
    },
    {
      "cell_type": "code",
      "metadata": {
        "id": "nMhj1Etz3hiP",
        "colab_type": "code",
        "colab": {
          "base_uri": "https://localhost:8080/",
          "height": 35
        },
        "outputId": "3319d175-b4ae-4aa8-d5c7-f6067af8e054"
      },
      "source": [
        "results = knn.predict( sample)[0:10]\n",
        "\n",
        "print( results)"
      ],
      "execution_count": 18,
      "outputs": [
        {
          "output_type": "stream",
          "text": [
            "['30onrKEgOU8OGXbyF7zLyI']\n"
          ],
          "name": "stdout"
        }
      ]
    },
    {
      "cell_type": "code",
      "metadata": {
        "id": "uiv3PbFaB532",
        "colab_type": "code",
        "colab": {}
      },
      "source": [
        "\n",
        "################################################################################\n",
        "################################################################################\n",
        "################################################################################\n",
        "################################################################################\n",
        "################################################################################\n",
        "################################################################################\n",
        "################################################################################\n",
        "################################################################################\n",
        "################################################################################\n",
        "################################################################################\n",
        "################################################################################\n",
        "################################################################################"
      ],
      "execution_count": 0,
      "outputs": []
    },
    {
      "cell_type": "code",
      "metadata": {
        "id": "vKu557a4F3VX",
        "colab_type": "code",
        "colab": {}
      },
      "source": [
        "## Unknown to me at the moment, how to get the data I need from standard KNN\n",
        "## --> only able to get 10 songs out when > 10 are given as input??\n",
        "## Switching to discovered alternative, KDTree"
      ],
      "execution_count": 0,
      "outputs": []
    },
    {
      "cell_type": "code",
      "metadata": {
        "id": "BZI90k6yq71q",
        "colab_type": "code",
        "colab": {}
      },
      "source": [
        "from sklearn.neighbors import KDTree"
      ],
      "execution_count": 0,
      "outputs": []
    },
    {
      "cell_type": "code",
      "metadata": {
        "id": "LW0rsOqjTzTx",
        "colab_type": "code",
        "colab": {
          "base_uri": "https://localhost:8080/",
          "height": 35
        },
        "outputId": "057ae091-a463-4b29-d2b0-974ab5903822"
      },
      "source": [
        "type( sample), type( x.sample(1))"
      ],
      "execution_count": 53,
      "outputs": [
        {
          "output_type": "execute_result",
          "data": {
            "text/plain": [
              "(pandas.core.frame.DataFrame, pandas.core.frame.DataFrame)"
            ]
          },
          "metadata": {
            "tags": []
          },
          "execution_count": 53
        }
      ]
    },
    {
      "cell_type": "code",
      "metadata": {
        "id": "YIdWGaYDrFUk",
        "colab_type": "code",
        "colab": {
          "base_uri": "https://localhost:8080/",
          "height": 90
        },
        "outputId": "06af87c6-5513-41ef-813f-8e93fed83a0f"
      },
      "source": [
        "kdt = KDTree( x, leaf_size= 2048)\n",
        "dist, ind = kdt.query( sample, k= 11)\n",
        "\n",
        "print( ind)\n",
        "print( dist)"
      ],
      "execution_count": 62,
      "outputs": [
        {
          "output_type": "stream",
          "text": [
            "[[  2526 110620 114268  85896 114857  66115  17303  53329  92928 110223\n",
            "  117042]]\n",
            "[[0.         2.33493907 2.61164687 2.63379147 2.75688268 2.8232957\n",
            "  2.82474875 2.8671262  2.91112742 3.06422877 3.1866923 ]]\n"
          ],
          "name": "stdout"
        }
      ]
    },
    {
      "cell_type": "code",
      "metadata": {
        "id": "gqfOxrQfsrRk",
        "colab_type": "code",
        "colab": {
          "base_uri": "https://localhost:8080/",
          "height": 782
        },
        "outputId": "4c44ca63-f1c1-4bbc-bfe5-bd2b97a25754"
      },
      "source": [
        "df.iloc[ind[0][1:11]]"
      ],
      "execution_count": 66,
      "outputs": [
        {
          "output_type": "execute_result",
          "data": {
            "text/html": [
              "<div>\n",
              "<style scoped>\n",
              "    .dataframe tbody tr th:only-of-type {\n",
              "        vertical-align: middle;\n",
              "    }\n",
              "\n",
              "    .dataframe tbody tr th {\n",
              "        vertical-align: top;\n",
              "    }\n",
              "\n",
              "    .dataframe thead th {\n",
              "        text-align: right;\n",
              "    }\n",
              "</style>\n",
              "<table border=\"1\" class=\"dataframe\">\n",
              "  <thead>\n",
              "    <tr style=\"text-align: right;\">\n",
              "      <th></th>\n",
              "      <th>artist_name</th>\n",
              "      <th>track_id</th>\n",
              "      <th>track_name</th>\n",
              "      <th>acousticness</th>\n",
              "      <th>danceability</th>\n",
              "      <th>duration_ms</th>\n",
              "      <th>energy</th>\n",
              "      <th>instrumentalness</th>\n",
              "      <th>key</th>\n",
              "      <th>liveness</th>\n",
              "      <th>loudness</th>\n",
              "      <th>mode</th>\n",
              "      <th>speechiness</th>\n",
              "      <th>tempo</th>\n",
              "      <th>time_signature</th>\n",
              "      <th>valence</th>\n",
              "      <th>popularity</th>\n",
              "    </tr>\n",
              "  </thead>\n",
              "  <tbody>\n",
              "    <tr>\n",
              "      <th>110620</th>\n",
              "      <td>Wolfgang Amadeus Mozart</td>\n",
              "      <td>2BK7DJt8evygm5Qmvm9Pxv</td>\n",
              "      <td>Symphony No. 19 in E-Flat Major, K. 132: II. A...</td>\n",
              "      <td>0.987</td>\n",
              "      <td>0.1400</td>\n",
              "      <td>227472</td>\n",
              "      <td>0.02200</td>\n",
              "      <td>0.428</td>\n",
              "      <td>6</td>\n",
              "      <td>0.1260</td>\n",
              "      <td>-26.045</td>\n",
              "      <td>1</td>\n",
              "      <td>0.0499</td>\n",
              "      <td>68.336</td>\n",
              "      <td>3</td>\n",
              "      <td>0.2010</td>\n",
              "      <td>14</td>\n",
              "    </tr>\n",
              "    <tr>\n",
              "      <th>114268</th>\n",
              "      <td>Claude Debussy</td>\n",
              "      <td>4v0U45p6YpkfBD6rWcsmhQ</td>\n",
              "      <td>Images oubliées, L. 87: 1. Lent (mélancolique ...</td>\n",
              "      <td>0.994</td>\n",
              "      <td>0.4200</td>\n",
              "      <td>210027</td>\n",
              "      <td>0.00783</td>\n",
              "      <td>0.890</td>\n",
              "      <td>4</td>\n",
              "      <td>0.0621</td>\n",
              "      <td>-28.823</td>\n",
              "      <td>1</td>\n",
              "      <td>0.0493</td>\n",
              "      <td>69.258</td>\n",
              "      <td>4</td>\n",
              "      <td>0.0393</td>\n",
              "      <td>13</td>\n",
              "    </tr>\n",
              "    <tr>\n",
              "      <th>85896</th>\n",
              "      <td>Hedley Patel</td>\n",
              "      <td>0dAwTbkidofxjmFC9XerzL</td>\n",
              "      <td>Red</td>\n",
              "      <td>0.993</td>\n",
              "      <td>0.3570</td>\n",
              "      <td>119456</td>\n",
              "      <td>0.07410</td>\n",
              "      <td>0.904</td>\n",
              "      <td>7</td>\n",
              "      <td>0.1170</td>\n",
              "      <td>-26.893</td>\n",
              "      <td>0</td>\n",
              "      <td>0.0567</td>\n",
              "      <td>69.885</td>\n",
              "      <td>4</td>\n",
              "      <td>0.2370</td>\n",
              "      <td>14</td>\n",
              "    </tr>\n",
              "    <tr>\n",
              "      <th>114857</th>\n",
              "      <td>Wolfgang Amadeus Mozart</td>\n",
              "      <td>7LGh7X1IqvnOMIEblrSlV0</td>\n",
              "      <td>Piano Concerto No. 16 in D Major, K. 451: II. ...</td>\n",
              "      <td>0.990</td>\n",
              "      <td>0.3580</td>\n",
              "      <td>351000</td>\n",
              "      <td>0.02280</td>\n",
              "      <td>0.891</td>\n",
              "      <td>7</td>\n",
              "      <td>0.1000</td>\n",
              "      <td>-27.990</td>\n",
              "      <td>1</td>\n",
              "      <td>0.0371</td>\n",
              "      <td>70.566</td>\n",
              "      <td>4</td>\n",
              "      <td>0.1190</td>\n",
              "      <td>13</td>\n",
              "    </tr>\n",
              "    <tr>\n",
              "      <th>66115</th>\n",
              "      <td>Binaural Beats Sleep</td>\n",
              "      <td>1EzkyMQ6ubKUatNxX0FSPB</td>\n",
              "      <td>Brainwave Entrainment for Deep Sleep</td>\n",
              "      <td>0.984</td>\n",
              "      <td>0.1360</td>\n",
              "      <td>147600</td>\n",
              "      <td>0.04300</td>\n",
              "      <td>0.920</td>\n",
              "      <td>4</td>\n",
              "      <td>0.0985</td>\n",
              "      <td>-27.180</td>\n",
              "      <td>0</td>\n",
              "      <td>0.0455</td>\n",
              "      <td>71.118</td>\n",
              "      <td>3</td>\n",
              "      <td>0.0358</td>\n",
              "      <td>16</td>\n",
              "    </tr>\n",
              "    <tr>\n",
              "      <th>17303</th>\n",
              "      <td>Warmth</td>\n",
              "      <td>21l7beFvSCpuPsqcM5bY3q</td>\n",
              "      <td>Parallel</td>\n",
              "      <td>0.931</td>\n",
              "      <td>0.0633</td>\n",
              "      <td>452813</td>\n",
              "      <td>0.18300</td>\n",
              "      <td>0.976</td>\n",
              "      <td>6</td>\n",
              "      <td>0.0971</td>\n",
              "      <td>-25.101</td>\n",
              "      <td>1</td>\n",
              "      <td>0.0456</td>\n",
              "      <td>69.284</td>\n",
              "      <td>3</td>\n",
              "      <td>0.0379</td>\n",
              "      <td>13</td>\n",
              "    </tr>\n",
              "    <tr>\n",
              "      <th>53329</th>\n",
              "      <td>Study Music &amp; Sounds</td>\n",
              "      <td>7H6ziUVrb4Yt4k4nK9LbDh</td>\n",
              "      <td>Study Alpha Waves (Thunderstorm)</td>\n",
              "      <td>0.975</td>\n",
              "      <td>0.1760</td>\n",
              "      <td>121190</td>\n",
              "      <td>0.21600</td>\n",
              "      <td>0.967</td>\n",
              "      <td>6</td>\n",
              "      <td>0.1090</td>\n",
              "      <td>-26.075</td>\n",
              "      <td>1</td>\n",
              "      <td>0.0410</td>\n",
              "      <td>70.050</td>\n",
              "      <td>4</td>\n",
              "      <td>0.0392</td>\n",
              "      <td>16</td>\n",
              "    </tr>\n",
              "    <tr>\n",
              "      <th>92928</th>\n",
              "      <td>Johann Sebastian Bach</td>\n",
              "      <td>3KcIGNhLYEPidm6gZn9Uhw</td>\n",
              "      <td>Christ, der du bist der helle Tag, BWV 766: I....</td>\n",
              "      <td>0.954</td>\n",
              "      <td>0.2350</td>\n",
              "      <td>49827</td>\n",
              "      <td>0.00652</td>\n",
              "      <td>0.988</td>\n",
              "      <td>5</td>\n",
              "      <td>0.1120</td>\n",
              "      <td>-28.333</td>\n",
              "      <td>0</td>\n",
              "      <td>0.0364</td>\n",
              "      <td>69.364</td>\n",
              "      <td>4</td>\n",
              "      <td>0.1600</td>\n",
              "      <td>12</td>\n",
              "    </tr>\n",
              "    <tr>\n",
              "      <th>110223</th>\n",
              "      <td>Claude Debussy</td>\n",
              "      <td>0X6Njzx9qBmjrmCAnPepOC</td>\n",
              "      <td>Sonata for Flute, Viola and Harp in F Major, L...</td>\n",
              "      <td>0.989</td>\n",
              "      <td>0.2780</td>\n",
              "      <td>415653</td>\n",
              "      <td>0.02530</td>\n",
              "      <td>0.447</td>\n",
              "      <td>5</td>\n",
              "      <td>0.0831</td>\n",
              "      <td>-26.621</td>\n",
              "      <td>1</td>\n",
              "      <td>0.0450</td>\n",
              "      <td>67.219</td>\n",
              "      <td>4</td>\n",
              "      <td>0.0433</td>\n",
              "      <td>14</td>\n",
              "    </tr>\n",
              "    <tr>\n",
              "      <th>117042</th>\n",
              "      <td>Claude Debussy</td>\n",
              "      <td>1FI5X8zFVFHuNPRUDdtCZd</td>\n",
              "      <td>Préludes, Book 1, L. 117: No. 1, Danseuses de ...</td>\n",
              "      <td>0.996</td>\n",
              "      <td>0.5080</td>\n",
              "      <td>142173</td>\n",
              "      <td>0.00751</td>\n",
              "      <td>0.923</td>\n",
              "      <td>5</td>\n",
              "      <td>0.0911</td>\n",
              "      <td>-28.384</td>\n",
              "      <td>1</td>\n",
              "      <td>0.1020</td>\n",
              "      <td>72.460</td>\n",
              "      <td>4</td>\n",
              "      <td>0.0605</td>\n",
              "      <td>13</td>\n",
              "    </tr>\n",
              "  </tbody>\n",
              "</table>\n",
              "</div>"
            ],
            "text/plain": [
              "                    artist_name                track_id  ... valence  popularity\n",
              "110620  Wolfgang Amadeus Mozart  2BK7DJt8evygm5Qmvm9Pxv  ...  0.2010          14\n",
              "114268           Claude Debussy  4v0U45p6YpkfBD6rWcsmhQ  ...  0.0393          13\n",
              "85896              Hedley Patel  0dAwTbkidofxjmFC9XerzL  ...  0.2370          14\n",
              "114857  Wolfgang Amadeus Mozart  7LGh7X1IqvnOMIEblrSlV0  ...  0.1190          13\n",
              "66115      Binaural Beats Sleep  1EzkyMQ6ubKUatNxX0FSPB  ...  0.0358          16\n",
              "17303                    Warmth  21l7beFvSCpuPsqcM5bY3q  ...  0.0379          13\n",
              "53329      Study Music & Sounds  7H6ziUVrb4Yt4k4nK9LbDh  ...  0.0392          16\n",
              "92928     Johann Sebastian Bach  3KcIGNhLYEPidm6gZn9Uhw  ...  0.1600          12\n",
              "110223           Claude Debussy  0X6Njzx9qBmjrmCAnPepOC  ...  0.0433          14\n",
              "117042           Claude Debussy  1FI5X8zFVFHuNPRUDdtCZd  ...  0.0605          13\n",
              "\n",
              "[10 rows x 17 columns]"
            ]
          },
          "metadata": {
            "tags": []
          },
          "execution_count": 66
        }
      ]
    },
    {
      "cell_type": "code",
      "metadata": {
        "id": "bGurdjAjatWW",
        "colab_type": "code",
        "colab": {
          "base_uri": "https://localhost:8080/",
          "height": 699
        },
        "outputId": "e71e3cc3-32be-44a6-f89b-52d005f6f84c"
      },
      "source": [
        "df.iloc[ind[0][1:10]]"
      ],
      "execution_count": 63,
      "outputs": [
        {
          "output_type": "execute_result",
          "data": {
            "text/html": [
              "<div>\n",
              "<style scoped>\n",
              "    .dataframe tbody tr th:only-of-type {\n",
              "        vertical-align: middle;\n",
              "    }\n",
              "\n",
              "    .dataframe tbody tr th {\n",
              "        vertical-align: top;\n",
              "    }\n",
              "\n",
              "    .dataframe thead th {\n",
              "        text-align: right;\n",
              "    }\n",
              "</style>\n",
              "<table border=\"1\" class=\"dataframe\">\n",
              "  <thead>\n",
              "    <tr style=\"text-align: right;\">\n",
              "      <th></th>\n",
              "      <th>artist_name</th>\n",
              "      <th>track_id</th>\n",
              "      <th>track_name</th>\n",
              "      <th>acousticness</th>\n",
              "      <th>danceability</th>\n",
              "      <th>duration_ms</th>\n",
              "      <th>energy</th>\n",
              "      <th>instrumentalness</th>\n",
              "      <th>key</th>\n",
              "      <th>liveness</th>\n",
              "      <th>loudness</th>\n",
              "      <th>mode</th>\n",
              "      <th>speechiness</th>\n",
              "      <th>tempo</th>\n",
              "      <th>time_signature</th>\n",
              "      <th>valence</th>\n",
              "      <th>popularity</th>\n",
              "    </tr>\n",
              "  </thead>\n",
              "  <tbody>\n",
              "    <tr>\n",
              "      <th>110620</th>\n",
              "      <td>Wolfgang Amadeus Mozart</td>\n",
              "      <td>2BK7DJt8evygm5Qmvm9Pxv</td>\n",
              "      <td>Symphony No. 19 in E-Flat Major, K. 132: II. A...</td>\n",
              "      <td>0.987</td>\n",
              "      <td>0.1400</td>\n",
              "      <td>227472</td>\n",
              "      <td>0.02200</td>\n",
              "      <td>0.428</td>\n",
              "      <td>6</td>\n",
              "      <td>0.1260</td>\n",
              "      <td>-26.045</td>\n",
              "      <td>1</td>\n",
              "      <td>0.0499</td>\n",
              "      <td>68.336</td>\n",
              "      <td>3</td>\n",
              "      <td>0.2010</td>\n",
              "      <td>14</td>\n",
              "    </tr>\n",
              "    <tr>\n",
              "      <th>114268</th>\n",
              "      <td>Claude Debussy</td>\n",
              "      <td>4v0U45p6YpkfBD6rWcsmhQ</td>\n",
              "      <td>Images oubliées, L. 87: 1. Lent (mélancolique ...</td>\n",
              "      <td>0.994</td>\n",
              "      <td>0.4200</td>\n",
              "      <td>210027</td>\n",
              "      <td>0.00783</td>\n",
              "      <td>0.890</td>\n",
              "      <td>4</td>\n",
              "      <td>0.0621</td>\n",
              "      <td>-28.823</td>\n",
              "      <td>1</td>\n",
              "      <td>0.0493</td>\n",
              "      <td>69.258</td>\n",
              "      <td>4</td>\n",
              "      <td>0.0393</td>\n",
              "      <td>13</td>\n",
              "    </tr>\n",
              "    <tr>\n",
              "      <th>85896</th>\n",
              "      <td>Hedley Patel</td>\n",
              "      <td>0dAwTbkidofxjmFC9XerzL</td>\n",
              "      <td>Red</td>\n",
              "      <td>0.993</td>\n",
              "      <td>0.3570</td>\n",
              "      <td>119456</td>\n",
              "      <td>0.07410</td>\n",
              "      <td>0.904</td>\n",
              "      <td>7</td>\n",
              "      <td>0.1170</td>\n",
              "      <td>-26.893</td>\n",
              "      <td>0</td>\n",
              "      <td>0.0567</td>\n",
              "      <td>69.885</td>\n",
              "      <td>4</td>\n",
              "      <td>0.2370</td>\n",
              "      <td>14</td>\n",
              "    </tr>\n",
              "    <tr>\n",
              "      <th>114857</th>\n",
              "      <td>Wolfgang Amadeus Mozart</td>\n",
              "      <td>7LGh7X1IqvnOMIEblrSlV0</td>\n",
              "      <td>Piano Concerto No. 16 in D Major, K. 451: II. ...</td>\n",
              "      <td>0.990</td>\n",
              "      <td>0.3580</td>\n",
              "      <td>351000</td>\n",
              "      <td>0.02280</td>\n",
              "      <td>0.891</td>\n",
              "      <td>7</td>\n",
              "      <td>0.1000</td>\n",
              "      <td>-27.990</td>\n",
              "      <td>1</td>\n",
              "      <td>0.0371</td>\n",
              "      <td>70.566</td>\n",
              "      <td>4</td>\n",
              "      <td>0.1190</td>\n",
              "      <td>13</td>\n",
              "    </tr>\n",
              "    <tr>\n",
              "      <th>66115</th>\n",
              "      <td>Binaural Beats Sleep</td>\n",
              "      <td>1EzkyMQ6ubKUatNxX0FSPB</td>\n",
              "      <td>Brainwave Entrainment for Deep Sleep</td>\n",
              "      <td>0.984</td>\n",
              "      <td>0.1360</td>\n",
              "      <td>147600</td>\n",
              "      <td>0.04300</td>\n",
              "      <td>0.920</td>\n",
              "      <td>4</td>\n",
              "      <td>0.0985</td>\n",
              "      <td>-27.180</td>\n",
              "      <td>0</td>\n",
              "      <td>0.0455</td>\n",
              "      <td>71.118</td>\n",
              "      <td>3</td>\n",
              "      <td>0.0358</td>\n",
              "      <td>16</td>\n",
              "    </tr>\n",
              "    <tr>\n",
              "      <th>17303</th>\n",
              "      <td>Warmth</td>\n",
              "      <td>21l7beFvSCpuPsqcM5bY3q</td>\n",
              "      <td>Parallel</td>\n",
              "      <td>0.931</td>\n",
              "      <td>0.0633</td>\n",
              "      <td>452813</td>\n",
              "      <td>0.18300</td>\n",
              "      <td>0.976</td>\n",
              "      <td>6</td>\n",
              "      <td>0.0971</td>\n",
              "      <td>-25.101</td>\n",
              "      <td>1</td>\n",
              "      <td>0.0456</td>\n",
              "      <td>69.284</td>\n",
              "      <td>3</td>\n",
              "      <td>0.0379</td>\n",
              "      <td>13</td>\n",
              "    </tr>\n",
              "    <tr>\n",
              "      <th>53329</th>\n",
              "      <td>Study Music &amp; Sounds</td>\n",
              "      <td>7H6ziUVrb4Yt4k4nK9LbDh</td>\n",
              "      <td>Study Alpha Waves (Thunderstorm)</td>\n",
              "      <td>0.975</td>\n",
              "      <td>0.1760</td>\n",
              "      <td>121190</td>\n",
              "      <td>0.21600</td>\n",
              "      <td>0.967</td>\n",
              "      <td>6</td>\n",
              "      <td>0.1090</td>\n",
              "      <td>-26.075</td>\n",
              "      <td>1</td>\n",
              "      <td>0.0410</td>\n",
              "      <td>70.050</td>\n",
              "      <td>4</td>\n",
              "      <td>0.0392</td>\n",
              "      <td>16</td>\n",
              "    </tr>\n",
              "    <tr>\n",
              "      <th>92928</th>\n",
              "      <td>Johann Sebastian Bach</td>\n",
              "      <td>3KcIGNhLYEPidm6gZn9Uhw</td>\n",
              "      <td>Christ, der du bist der helle Tag, BWV 766: I....</td>\n",
              "      <td>0.954</td>\n",
              "      <td>0.2350</td>\n",
              "      <td>49827</td>\n",
              "      <td>0.00652</td>\n",
              "      <td>0.988</td>\n",
              "      <td>5</td>\n",
              "      <td>0.1120</td>\n",
              "      <td>-28.333</td>\n",
              "      <td>0</td>\n",
              "      <td>0.0364</td>\n",
              "      <td>69.364</td>\n",
              "      <td>4</td>\n",
              "      <td>0.1600</td>\n",
              "      <td>12</td>\n",
              "    </tr>\n",
              "    <tr>\n",
              "      <th>110223</th>\n",
              "      <td>Claude Debussy</td>\n",
              "      <td>0X6Njzx9qBmjrmCAnPepOC</td>\n",
              "      <td>Sonata for Flute, Viola and Harp in F Major, L...</td>\n",
              "      <td>0.989</td>\n",
              "      <td>0.2780</td>\n",
              "      <td>415653</td>\n",
              "      <td>0.02530</td>\n",
              "      <td>0.447</td>\n",
              "      <td>5</td>\n",
              "      <td>0.0831</td>\n",
              "      <td>-26.621</td>\n",
              "      <td>1</td>\n",
              "      <td>0.0450</td>\n",
              "      <td>67.219</td>\n",
              "      <td>4</td>\n",
              "      <td>0.0433</td>\n",
              "      <td>14</td>\n",
              "    </tr>\n",
              "  </tbody>\n",
              "</table>\n",
              "</div>"
            ],
            "text/plain": [
              "                    artist_name                track_id  ... valence  popularity\n",
              "110620  Wolfgang Amadeus Mozart  2BK7DJt8evygm5Qmvm9Pxv  ...  0.2010          14\n",
              "114268           Claude Debussy  4v0U45p6YpkfBD6rWcsmhQ  ...  0.0393          13\n",
              "85896              Hedley Patel  0dAwTbkidofxjmFC9XerzL  ...  0.2370          14\n",
              "114857  Wolfgang Amadeus Mozart  7LGh7X1IqvnOMIEblrSlV0  ...  0.1190          13\n",
              "66115      Binaural Beats Sleep  1EzkyMQ6ubKUatNxX0FSPB  ...  0.0358          16\n",
              "17303                    Warmth  21l7beFvSCpuPsqcM5bY3q  ...  0.0379          13\n",
              "53329      Study Music & Sounds  7H6ziUVrb4Yt4k4nK9LbDh  ...  0.0392          16\n",
              "92928     Johann Sebastian Bach  3KcIGNhLYEPidm6gZn9Uhw  ...  0.1600          12\n",
              "110223           Claude Debussy  0X6Njzx9qBmjrmCAnPepOC  ...  0.0433          14\n",
              "\n",
              "[9 rows x 17 columns]"
            ]
          },
          "metadata": {
            "tags": []
          },
          "execution_count": 63
        }
      ]
    },
    {
      "cell_type": "code",
      "metadata": {
        "id": "SrrGzepbbXPI",
        "colab_type": "code",
        "colab": {
          "base_uri": "https://localhost:8080/",
          "height": 35
        },
        "outputId": "c6929712-9ada-4dd6-9719-af10116a880d"
      },
      "source": [
        "import joblib\n",
        "\n",
        "filename = 'model-v1.sav'\n",
        "\n",
        "joblib.dump( kdt, filename)\n",
        "\n"
      ],
      "execution_count": 65,
      "outputs": [
        {
          "output_type": "execute_result",
          "data": {
            "text/plain": [
              "['model-v1.sav']"
            ]
          },
          "metadata": {
            "tags": []
          },
          "execution_count": 65
        }
      ]
    },
    {
      "cell_type": "code",
      "metadata": {
        "id": "q7hfwS17t1ev",
        "colab_type": "code",
        "colab": {}
      },
      "source": [
        "##############################################################################################\n",
        "##############################################################################################\n",
        "#                                                                                            #\n",
        "#      ###   ##      ###   ##        ########      ########      ###   ##      ########      #\n",
        "#      ####  ##      ####  ##             ###      ##    ##      ####  ##      ##            #\n",
        "#      ## ## ##      ## ## ##          ####        ##    ##      ## ## ##      #####         #\n",
        "#      ##  ####      ##  ####        ###           ##    ##      ##  ####      ##            #\n",
        "#      ##   ###      ##   ###        ########      ########      ##   ###      ########      #\n",
        "#                                                                                            #\n",
        "##############################################################################################\n",
        "##############################################################################################"
      ],
      "execution_count": 0,
      "outputs": []
    },
    {
      "cell_type": "code",
      "metadata": {
        "id": "Tzs2ncnW181A",
        "colab_type": "code",
        "colab": {}
      },
      "source": [
        "!pip install tensorflow --upgrade\n",
        "\n",
        "from tensorflow import convert_to_tensor\n",
        "from tensorflow.keras.models import Sequential, Model\n",
        "from tensorflow.keras.utils import to_categorical\n",
        "from tensorflow.keras.layers import Dense, Embedding, Dropout, Activation\n",
        "from tensorflow.keras.layers import Input, LSTM\n",
        "from tensorflow.keras.optimizers import SGD, Adam\n",
        "from keras.preprocessing import sequence\n",
        "\n",
        "from sklearn.preprocessing import StandardScaler"
      ],
      "execution_count": 0,
      "outputs": []
    },
    {
      "cell_type": "code",
      "metadata": {
        "id": "EqbMfgpc9oqG",
        "colab_type": "code",
        "colab": {}
      },
      "source": [
        "epochs = 2\n",
        "batches = 2\n",
        "steps = 50000\n",
        "encoding_dim = 10"
      ],
      "execution_count": 0,
      "outputs": []
    },
    {
      "cell_type": "code",
      "metadata": {
        "id": "4tRoQSrpVFlq",
        "colab_type": "code",
        "colab": {}
      },
      "source": [
        "# LSTM (NYI)\n",
        "def buildModel1():\n",
        "    return Sequential(\n",
        "            [Embedding( 14, 512),\n",
        "             LSTM( 256, dropout= 0.3, recurrent_dropout= 0.3),\n",
        "             LSTM( 64, dropout= 0.3, recurrent_dropout= 0.3),\n",
        "             Dense( 10, activation= 'relu')]\n",
        "    )"
      ],
      "execution_count": 0,
      "outputs": []
    },
    {
      "cell_type": "code",
      "metadata": {
        "id": "i5GkR6FspSeN",
        "colab_type": "code",
        "colab": {}
      },
      "source": [
        "# Sequential \n",
        "def buildModel2():\n",
        "    return Sequential(\n",
        "            [#Dense( 64, input_shape= (14,)),\n",
        "#             Activation( \"relu\"),\n",
        "#             Dropout( .25),\n",
        "#             Dense( 128),\n",
        "#             Activation( \"relu\"),\n",
        "#             Dropout( .25),\n",
        "             Dense( 10, input_shape= (14,)),\n",
        "             Activation( \"sigmoid\")]\n",
        "    )"
      ],
      "execution_count": 0,
      "outputs": []
    },
    {
      "cell_type": "code",
      "metadata": {
        "id": "-SvvReHP9onX",
        "colab_type": "code",
        "colab": {
          "base_uri": "https://localhost:8080/",
          "height": 421
        },
        "outputId": "cfd7cd42-d10c-4d5c-9a9f-21de25f2f694"
      },
      "source": [
        "print('First, we Build the model...\\n')\n",
        "spootify = buildModel2()\n",
        "print( spootify.summary(), '\\n')\n",
        "spootify.compile( loss= 'sparse_categorical_crossentropy',\n",
        "                  optimizer= 'adam',\n",
        "                  metrics= ['accuracy']\n",
        ")"
      ],
      "execution_count": 24,
      "outputs": [
        {
          "output_type": "stream",
          "text": [
            "First, we Build the model...\n",
            "\n",
            "Model: \"sequential_2\"\n",
            "_________________________________________________________________\n",
            "Layer (type)                 Output Shape              Param #   \n",
            "=================================================================\n",
            "dense_4 (Dense)              (None, 64)                960       \n",
            "_________________________________________________________________\n",
            "activation_4 (Activation)    (None, 64)                0         \n",
            "_________________________________________________________________\n",
            "dropout_2 (Dropout)          (None, 64)                0         \n",
            "_________________________________________________________________\n",
            "dense_5 (Dense)              (None, 10)                650       \n",
            "_________________________________________________________________\n",
            "activation_5 (Activation)    (None, 10)                0         \n",
            "=================================================================\n",
            "Total params: 1,610\n",
            "Trainable params: 1,610\n",
            "Non-trainable params: 0\n",
            "_________________________________________________________________\n",
            "None \n",
            "\n"
          ],
          "name": "stdout"
        }
      ]
    },
    {
      "cell_type": "code",
      "metadata": {
        "id": "aOutuv2ZrH6e",
        "colab_type": "code",
        "colab": {}
      },
      "source": [
        "print('Then, we Train the model...\\n')\n",
        "spootify.fit( xTrain, yTrain,\n",
        "              batch_size= batches,\n",
        "              epochs= epochs,\n",
        "              verbose= 2,\n",
        "              validation_data= (xTest, yTest)\n",
        ")"
      ],
      "execution_count": 0,
      "outputs": []
    },
    {
      "cell_type": "code",
      "metadata": {
        "id": "Zn3pX5ff9oj5",
        "colab_type": "code",
        "colab": {}
      },
      "source": [
        "whatScorePrecious, whatAccuracy = spootify.evaluate( xTest, yTest, \n",
        "                                                     batch_size= 64\n",
        ")\n",
        "print('Test score:', whatScorePrecious)\n",
        "print('Test accuracy:', whatAccuracy)"
      ],
      "execution_count": 0,
      "outputs": []
    },
    {
      "cell_type": "code",
      "metadata": {
        "id": "ZZIt_3BF9ohX",
        "colab_type": "code",
        "colab": {}
      },
      "source": [
        ""
      ],
      "execution_count": 0,
      "outputs": []
    },
    {
      "cell_type": "code",
      "metadata": {
        "id": "8ll6RSjr_CPd",
        "colab_type": "code",
        "colab": {}
      },
      "source": [
        ""
      ],
      "execution_count": 0,
      "outputs": []
    },
    {
      "cell_type": "code",
      "metadata": {
        "id": "jYtO0NHR_CM9",
        "colab_type": "code",
        "colab": {}
      },
      "source": [
        "moodel = Sequential()\n",
        "moodel.add( Dense( 10, input_shape= (14,)))\n",
        "moodel.add( Activation( \"sigmoid\"))\n",
        "#moodel.add( Dropout( .25))\n",
        "#moodel.add( Dense( 2))\n",
        "#moodel.add( Activation( \"softmax\"))\n",
        "\n",
        "spudify.compile( loss= \"sparse_categorical_crossentropy\",\n",
        "                optimizer= \"sgd\",\n",
        "                metrics= [\"accuracy\"]\n",
        ")\n",
        "\n",
        "fitBit = spudify.fit( xTrain, yTrain,\n",
        "                     batch_size= batches,\n",
        "                     epochs= epochs,\n",
        "                     verbose= 10,\n",
        "                     validation_data= ( xTest, yTest)\n",
        ")"
      ],
      "execution_count": 0,
      "outputs": []
    },
    {
      "cell_type": "code",
      "metadata": {
        "id": "g5I9AmOU62z_",
        "colab_type": "code",
        "colab": {}
      },
      "source": [
        ""
      ],
      "execution_count": 0,
      "outputs": []
    },
    {
      "cell_type": "code",
      "metadata": {
        "id": "QuE9g4vP63ve",
        "colab_type": "code",
        "colab": {}
      },
      "source": [
        ""
      ],
      "execution_count": 0,
      "outputs": []
    },
    {
      "cell_type": "code",
      "metadata": {
        "id": "wxBN6twWXi34",
        "colab_type": "code",
        "colab": {
          "base_uri": "https://localhost:8080/",
          "height": 1000
        },
        "outputId": "bd605eed-2ac5-477f-f0fc-81774ddeb106"
      },
      "source": [
        "inputFrame = Input( shape= (14,))\n",
        "\n",
        "encoded = Dense( 256, activation= 'relu')(inputFrame)\n",
        "encoded = Dense( 64, activation= 'relu')(encoded)\n",
        "encoded = Dense( 10, activation= 'relu')(encoded)\n",
        "\n",
        "decoded = Dense( 64, activation= 'relu')(encoded)\n",
        "decoded = Dense( 256, activation= 'relu')(decoded)\n",
        "decoded = Dense( 14, activation= 'sigmoid')(decoded)\n",
        "\n",
        "spautofy = Model(inputFrame, decoded)\n",
        "\n",
        "spautofy.compile( optimizer= 'adam',\n",
        "                  loss= 'kld',\n",
        "                  metrics= ['accuracy']\n",
        ")\n",
        "\n",
        "\n",
        "\n",
        "spautofy.fit( xTrain, xTrain,\n",
        "              epochs= 32,\n",
        "              batch_size= 256,\n",
        "              shuffle= True,\n",
        "              validation_data= (xTest, xTest),\n",
        "              verbose= True\n",
        ")"
      ],
      "execution_count": 9,
      "outputs": [
        {
          "output_type": "stream",
          "text": [
            "Train on 104530 samples, validate on 26133 samples\n",
            "Epoch 1/32\n",
            "104530/104530 [==============================] - 2s 21us/sample - loss: 12.1596 - accuracy: 0.0000e+00 - val_loss: 10.0466 - val_accuracy: 0.0000e+00\n",
            "Epoch 2/32\n",
            "104530/104530 [==============================] - 2s 16us/sample - loss: 10.1037 - accuracy: 0.0000e+00 - val_loss: 10.0466 - val_accuracy: 0.0000e+00\n",
            "Epoch 3/32\n",
            "104530/104530 [==============================] - 2s 16us/sample - loss: 10.1037 - accuracy: 0.0000e+00 - val_loss: 10.0466 - val_accuracy: 0.0000e+00\n",
            "Epoch 4/32\n",
            "104530/104530 [==============================] - 2s 16us/sample - loss: 10.1037 - accuracy: 0.0000e+00 - val_loss: 10.0466 - val_accuracy: 0.0000e+00\n",
            "Epoch 5/32\n",
            "104530/104530 [==============================] - 2s 16us/sample - loss: 10.1037 - accuracy: 0.0000e+00 - val_loss: 10.0466 - val_accuracy: 0.0000e+00\n",
            "Epoch 6/32\n",
            "104530/104530 [==============================] - 2s 16us/sample - loss: 10.1037 - accuracy: 0.0000e+00 - val_loss: 10.0466 - val_accuracy: 0.0000e+00\n",
            "Epoch 7/32\n",
            "104530/104530 [==============================] - 2s 16us/sample - loss: 10.1037 - accuracy: 0.0000e+00 - val_loss: 10.0466 - val_accuracy: 0.0000e+00\n",
            "Epoch 8/32\n",
            "104530/104530 [==============================] - 2s 17us/sample - loss: 10.1037 - accuracy: 0.0000e+00 - val_loss: 10.0466 - val_accuracy: 0.0000e+00\n",
            "Epoch 9/32\n",
            "104530/104530 [==============================] - 2s 16us/sample - loss: 10.1037 - accuracy: 0.0000e+00 - val_loss: 10.0466 - val_accuracy: 0.0000e+00\n",
            "Epoch 10/32\n",
            "104530/104530 [==============================] - 2s 16us/sample - loss: 10.1037 - accuracy: 0.0000e+00 - val_loss: 10.0466 - val_accuracy: 0.0000e+00\n",
            "Epoch 11/32\n",
            "104530/104530 [==============================] - 2s 17us/sample - loss: 10.1037 - accuracy: 0.0000e+00 - val_loss: 10.0466 - val_accuracy: 0.0000e+00\n",
            "Epoch 12/32\n",
            "104530/104530 [==============================] - 2s 16us/sample - loss: 10.1037 - accuracy: 0.0000e+00 - val_loss: 10.0466 - val_accuracy: 0.0000e+00\n",
            "Epoch 13/32\n",
            "104530/104530 [==============================] - 2s 16us/sample - loss: 10.1037 - accuracy: 0.0000e+00 - val_loss: 10.0466 - val_accuracy: 0.0000e+00\n",
            "Epoch 14/32\n",
            "104530/104530 [==============================] - 2s 15us/sample - loss: 10.1037 - accuracy: 0.0000e+00 - val_loss: 10.0466 - val_accuracy: 0.0000e+00\n",
            "Epoch 15/32\n",
            "104530/104530 [==============================] - 2s 16us/sample - loss: 10.1037 - accuracy: 0.0000e+00 - val_loss: 10.0466 - val_accuracy: 0.0000e+00\n",
            "Epoch 16/32\n",
            "104530/104530 [==============================] - 2s 15us/sample - loss: 10.1037 - accuracy: 0.0000e+00 - val_loss: 10.0466 - val_accuracy: 0.0000e+00\n",
            "Epoch 17/32\n",
            "104530/104530 [==============================] - 2s 16us/sample - loss: 10.1037 - accuracy: 0.0000e+00 - val_loss: 10.0466 - val_accuracy: 0.0000e+00\n",
            "Epoch 18/32\n",
            "104530/104530 [==============================] - 2s 15us/sample - loss: 10.1037 - accuracy: 0.0000e+00 - val_loss: 10.0466 - val_accuracy: 0.0000e+00\n",
            "Epoch 19/32\n",
            "104530/104530 [==============================] - 2s 16us/sample - loss: 10.1037 - accuracy: 0.0000e+00 - val_loss: 10.0466 - val_accuracy: 0.0000e+00\n",
            "Epoch 20/32\n",
            "104530/104530 [==============================] - 2s 17us/sample - loss: 10.1037 - accuracy: 0.0000e+00 - val_loss: 10.0466 - val_accuracy: 0.0000e+00\n",
            "Epoch 21/32\n",
            "104530/104530 [==============================] - 2s 16us/sample - loss: 10.1037 - accuracy: 0.0000e+00 - val_loss: 10.0466 - val_accuracy: 0.0000e+00\n",
            "Epoch 22/32\n",
            "104530/104530 [==============================] - 2s 15us/sample - loss: 10.1037 - accuracy: 0.0000e+00 - val_loss: 10.0466 - val_accuracy: 0.0000e+00\n",
            "Epoch 23/32\n",
            "104530/104530 [==============================] - 2s 16us/sample - loss: 10.1037 - accuracy: 0.0000e+00 - val_loss: 10.0466 - val_accuracy: 0.0000e+00\n",
            "Epoch 24/32\n",
            "104530/104530 [==============================] - 2s 18us/sample - loss: 10.1037 - accuracy: 0.0000e+00 - val_loss: 10.0466 - val_accuracy: 0.0000e+00\n",
            "Epoch 25/32\n",
            "104530/104530 [==============================] - 2s 16us/sample - loss: 10.1037 - accuracy: 0.0000e+00 - val_loss: 10.0466 - val_accuracy: 0.0000e+00\n",
            "Epoch 26/32\n",
            "104530/104530 [==============================] - 2s 16us/sample - loss: 10.1037 - accuracy: 0.0000e+00 - val_loss: 10.0466 - val_accuracy: 0.0000e+00\n",
            "Epoch 27/32\n",
            "104530/104530 [==============================] - 2s 17us/sample - loss: 10.1037 - accuracy: 0.0000e+00 - val_loss: 10.0466 - val_accuracy: 0.0000e+00\n",
            "Epoch 28/32\n",
            "104530/104530 [==============================] - 2s 17us/sample - loss: 10.1037 - accuracy: 0.0000e+00 - val_loss: 10.0466 - val_accuracy: 0.0000e+00\n",
            "Epoch 29/32\n",
            "104530/104530 [==============================] - 2s 17us/sample - loss: 10.1037 - accuracy: 0.0000e+00 - val_loss: 10.0466 - val_accuracy: 0.0000e+00\n",
            "Epoch 30/32\n",
            "104530/104530 [==============================] - 2s 16us/sample - loss: 10.1037 - accuracy: 0.0000e+00 - val_loss: 10.0466 - val_accuracy: 0.0000e+00\n",
            "Epoch 31/32\n",
            "104530/104530 [==============================] - 2s 15us/sample - loss: 10.1037 - accuracy: 0.0000e+00 - val_loss: 10.0466 - val_accuracy: 0.0000e+00\n",
            "Epoch 32/32\n",
            "104530/104530 [==============================] - 2s 16us/sample - loss: 10.1037 - accuracy: 0.0000e+00 - val_loss: 10.0466 - val_accuracy: 0.0000e+00\n"
          ],
          "name": "stdout"
        },
        {
          "output_type": "execute_result",
          "data": {
            "text/plain": [
              "<tensorflow.python.keras.callbacks.History at 0x7fdb88358b00>"
            ]
          },
          "metadata": {
            "tags": []
          },
          "execution_count": 9
        }
      ]
    },
    {
      "cell_type": "code",
      "metadata": {
        "id": "d33RgsTz_CKN",
        "colab_type": "code",
        "colab": {}
      },
      "source": [
        "spautofy.reset_metrics()\n",
        "\n",
        "decodedFrame = spautofy.predict( xTest)"
      ],
      "execution_count": 0,
      "outputs": []
    },
    {
      "cell_type": "code",
      "metadata": {
        "id": "0cSGfUJPlaMW",
        "colab_type": "code",
        "colab": {
          "base_uri": "https://localhost:8080/",
          "height": 35
        },
        "outputId": "fadf9ab2-212f-419c-8053-089ea156c0f3"
      },
      "source": [
        "import joblib\n",
        "\n",
        "filename = 'model(v0).sav'\n",
        "\n",
        "joblib.dump( decodedFrame, filename)"
      ],
      "execution_count": 22,
      "outputs": [
        {
          "output_type": "execute_result",
          "data": {
            "text/plain": [
              "['model(v0).sav']"
            ]
          },
          "metadata": {
            "tags": []
          },
          "execution_count": 22
        }
      ]
    },
    {
      "cell_type": "code",
      "metadata": {
        "id": "UQibBLMnIwgL",
        "colab_type": "code",
        "colab": {}
      },
      "source": [
        "loadedModel = joblib.load( filename)\n",
        "\n",
        "## TODO: use this to output 10 results (is that even possible??)"
      ],
      "execution_count": 0,
      "outputs": []
    },
    {
      "cell_type": "code",
      "metadata": {
        "id": "6rvwAjrCOsyw",
        "colab_type": "code",
        "colab": {}
      },
      "source": [
        ""
      ],
      "execution_count": 0,
      "outputs": []
    },
    {
      "cell_type": "code",
      "metadata": {
        "id": "pb4IG5XBl3N7",
        "colab_type": "code",
        "colab": {}
      },
      "source": [
        ""
      ],
      "execution_count": 0,
      "outputs": []
    },
    {
      "cell_type": "code",
      "metadata": {
        "id": "xK2jftsLl3Es",
        "colab_type": "code",
        "colab": {}
      },
      "source": [
        ""
      ],
      "execution_count": 0,
      "outputs": []
    },
    {
      "cell_type": "code",
      "metadata": {
        "id": "pvtfqCDwOswO",
        "colab_type": "code",
        "colab": {}
      },
      "source": [
        "## STRETCH?"
      ],
      "execution_count": 0,
      "outputs": []
    },
    {
      "cell_type": "code",
      "metadata": {
        "id": "qCQlr0g5Iwcf",
        "colab_type": "code",
        "colab": {}
      },
      "source": [
        "from time import time\n",
        "import keras.backend as K\n",
        "from keras.engine.topology import Layer, InputSpec\n",
        "from keras import callbacks\n",
        "from keras.initializers import VarianceScaling\n",
        "from sklearn.cluster import KMeans\n",
        "from sklearn import metrics\n",
        "from keras.layers import Dense, Input\n",
        "from keras.models import Model\n",
        "from keras.optimizers import SGD"
      ],
      "execution_count": 0,
      "outputs": []
    },
    {
      "cell_type": "code",
      "metadata": {
        "id": "rGxGyLIwnUEH",
        "colab_type": "code",
        "colab": {}
      },
      "source": [
        "# HYPERPARAMS\n",
        "\n",
        "DIMS = [x.shape[-1], 500, 500, 2000, 10]\n",
        "INIT = VarianceScaling( scale= 1. / 3., mode= 'fan_in', \n",
        "                        distribution= 'uniform')\n",
        "PRETRAIN_OPT = SGD( lr= 1, momentum= 0.9)\n",
        "PRETRAIN_EPOCHS = 300\n",
        "BATCH = 256"
      ],
      "execution_count": 0,
      "outputs": []
    },
    {
      "cell_type": "code",
      "metadata": {
        "id": "WAnD4MFYmmlJ",
        "colab_type": "code",
        "colab": {}
      },
      "source": [
        "\n",
        "data = \"https://raw.githubusercontent.com/spotify-song-suggester-6/data-science/develop/rawData/SpotifyAudioFeaturesApril2019.csv\"\n",
        "\n",
        "df = pd.read_csv( data)\n",
        "\n",
        "x = df.drop( columns= {'track_id', 'artist_name', 'track_name', 'duration_ms'})\n",
        "y = df[ 'track_id']\n",
        "\n",
        "nClusters = len( np.unique( y))\n",
        "x.shape"
      ],
      "execution_count": 0,
      "outputs": []
    },
    {
      "cell_type": "code",
      "metadata": {
        "id": "jnz02N-sIuqt",
        "colab_type": "code",
        "colab": {}
      },
      "source": [
        "\n",
        "def autoEnfolder( dims, act= 'relu', init= 'glorot_uniform'):\n",
        "    \"\"\"\n",
        "    Fully connected, symmetric auto-encoder model\n",
        "    Arguments:\n",
        "        dims: list of number of units in each layer of encoder\n",
        "        dims[0] is input dim \n",
        "        dims[-1] is units in hidden layer\n",
        "            Decoder is symmetric with encoder, so number of layers of autoencoder is 2*len(dims)-1\n",
        "        act: activation, not applied to Input, Hidden, or Output layers\n",
        "    return:\n",
        "        (ae_model, encoder_model), Model of autoencoder and model of encoder\n",
        "\n",
        "    \"\"\"\n",
        "\n",
        "\n",
        "    nStacks = len( dims) - 1\n",
        "    inputImg = Input( shape=( dims[0],), name= 'input')\n",
        "    x = inputImg\n",
        "    \n",
        "    # internal encoder layers\n",
        "    for i in range( nStacks-1):\n",
        "        x = Dense( dims[ i + 1], activation= act, \n",
        "                   kernel_initializer= init, name= 'encoder_%d' % i)(x)\n",
        "\n",
        "    # hidden layer\n",
        "    encoded = Dense( dims[-1], kernel_initializer= init, \n",
        "                     name= 'encoder_%d' % (n_stacks - 1))(x)  # hidden layer, features are extracted from here\n",
        "    x = encoded\n",
        "\n",
        "    # internal layers in decoder\n",
        "    for i in range( nStacks-1, 0, -1):\n",
        "        x = Dense( dims[i], activation= act, kernel_initializer= init, \n",
        "                   name= 'decoder_%d' % i)(x)\n",
        "\n",
        "    # output\n",
        "    x = Dense( dims[0], kernel_initializer= init, name= 'decoder_0')(x)\n",
        "    dexploded = x\n",
        "    return Model( inputs= inputImg, \n",
        "                  outputs= dexploded, name= 'AE'), \n",
        "           Model( inputs= inputImg, \n",
        "                  outputs= encoded, name= 'encoder')"
      ],
      "execution_count": 0,
      "outputs": []
    },
    {
      "cell_type": "code",
      "metadata": {
        "id": "oAXw74BxIwZY",
        "colab_type": "code",
        "colab": {}
      },
      "source": [
        "\n",
        "class ClusteringLayer( Layer):\n",
        "    \"\"\"\n",
        "    Clustering layer converts input sample (feature) to soft label\n",
        "\n",
        "    # Example\n",
        "    ```\n",
        "        model.add( ClusteringLayer( n_clusters= 10))\n",
        "\n",
        "    ```\n",
        "\n",
        "    # Arguments\n",
        "        n_clusters: number of clusters\n",
        "        weights: list of numpy array with shape (n_clusters, n_features), representing initial cluster centers\n",
        "        alpha: degrees of freedom parameter in student t-distribution. Default  1\n",
        "    # Input shape\n",
        "        2D tensor with shape (n_samples, n_features)\n",
        "    # Output shape\n",
        "        2D tensor with shape (n_samples, n_clusters)\n",
        "\n",
        "    \"\"\"\n",
        "\n",
        "    def __init__( self, nClusters, weights= None, alpha= 1.0, **kwargs):\n",
        "        if 'input_shape' not in kwargs and 'inputDim' in kwargs:\n",
        "            kwargs[ 'input_shape'] = (kwargs.pop( 'inputDim'),)\n",
        "        super( ClusteringLayer, self).__init__( **kwargs)\n",
        "        self.nClusters = nClusters\n",
        "        self.alpha = alpha\n",
        "        self.initialWeights = weights\n",
        "        self.inputSpec = InputSpec( ndim= 2)\n",
        "\n",
        "    def build( self, inputShape):\n",
        "        assert len( inputShape) == 2\n",
        "        inputDim = inputShape[1]\n",
        "        self.inputSpec = InputSpec( dtype= K.floatx(), shape= (None, inputDim))\n",
        "        self.clusters = self.add_weight( (self.nClusters, inputDim), initializer= 'glorot_uniform', name= 'clusters')\n",
        "        if self.initialWeights is not None:\n",
        "            self.setWeights( self.initialWeights)\n",
        "            del self.initialWeights\n",
        "        self.built = True\n",
        "\n",
        "    def call( self, inputs, **kwargs):\n",
        "        \"\"\" \n",
        "        student t-distribution, same as used in t-SNE algorithm        \n",
        "                 q_ij = 1/(1+dist( x_i, µ_j) ^2), then normalize\n",
        "                 q_ij can be interpreted as probability of assigning sample i to cluster j\n",
        "                 (e.g., a soft assignment)\n",
        "        Arguments:\n",
        "            inputs: variable containing data, shape= (n_samples, n_features)\n",
        "        Return:\n",
        "            q: student t-distribution, or soft labels for each sample. shape= (n_samples, n_clusters)\n",
        "        \"\"\"\n",
        "        q = 1.0 / (1.0 + (K.sum( K.square( K.expand_dims( inputs, axis= 1) - self.clusters), axis= 2) / self.alpha))\n",
        "        q **= (self.alpha + 1.0) / 2.0\n",
        "        q = K.transpose( K.transpose( q) / K.sum( q, axis= 1)) # Make sure each sample's 10 values add up to 1\n",
        "        return q\n",
        "\n",
        "    def computeOutputShape( self, inputShape):\n",
        "        assert inputShape and len( inputShape) == 2\n",
        "        return inputShape[0], self.nClusters\n",
        "\n",
        "    def getConfig( self):\n",
        "        config = {'nClusters': self.nClusters}\n",
        "        baseConfig = super( ClusteringLayer, self).getConfig()\n",
        "        return dict( list( baseConfig.items()) + list( config.items()))"
      ],
      "execution_count": 0,
      "outputs": []
    },
    {
      "cell_type": "code",
      "metadata": {
        "id": "MWxCHz57_syE",
        "colab_type": "code",
        "colab": {}
      },
      "source": [
        "\n",
        "autoExploder, encoder = autoEnfolder( DIMS, init= INIT)\n",
        "\n",
        "autoExploder.compile( optimizer= PRETRAIN_OPT, loss= 'mse')\n",
        "autoExploder.fit( x, x, batch_size= BATCH, epochs= PRETRAIN_EPOCHS)"
      ],
      "execution_count": 0,
      "outputs": []
    },
    {
      "cell_type": "code",
      "metadata": {
        "id": "-jzjfcROmmiy",
        "colab_type": "code",
        "colab": {}
      },
      "source": [
        "# \n",
        "# kayMe = KMeans( n_clusters= nClusters, n_init= 20, n_jobs= -1)\n",
        "# yPredK = kayMe.fit_predict( x)\n",
        "# \n",
        "# metrics.acc( y, yPredK)"
      ],
      "execution_count": 0,
      "outputs": []
    },
    {
      "cell_type": "code",
      "metadata": {
        "id": "VbKR5u3Qmmb3",
        "colab_type": "code",
        "colab": {}
      },
      "source": [
        "clusteringLayr = ClusteringLayer( nClusters, name= 'clustering')(encoder.output)\n",
        "model = Model( inputs= encoder.input, outputs= clusteringLayr)"
      ],
      "execution_count": 0,
      "outputs": []
    },
    {
      "cell_type": "code",
      "metadata": {
        "id": "UoT3FhjiIwWA",
        "colab_type": "code",
        "colab": {}
      },
      "source": [
        "\n",
        "# Initialize cluster centers using k-means\n",
        "kayMe = KMeans( n_clusters= nClusters, n_init= 20, n_jobs= -1)\n",
        "yPred = kayMe.fit_predict( encoder.predict( x))\n",
        "\n",
        "yPredLast = np.copy( yPred)\n",
        "\n",
        "model.get_layer( name= 'clustering').set_weights( [kayMe.cluster_centers_])\n",
        "\n",
        "\n",
        "def target_distribution( q):\n",
        "    weight = q ** 2 / q.sum(0)\n",
        "    return (weight.T / weight.sum(1)).T"
      ],
      "execution_count": 0,
      "outputs": []
    },
    {
      "cell_type": "code",
      "metadata": {
        "id": "XJFWtF2lI8KC",
        "colab_type": "code",
        "colab": {}
      },
      "source": [
        "model.compile( optimizer= SGD( 0.01, 0.9), loss= 'kld')\n",
        "\n",
        "loss, index = 0, 0\n",
        "indArray = np.arange( x.shape[0])\n",
        "maxIter = 8000\n",
        "updateInterval = 140\n",
        "tolerance = .001        # tolerance threshold to stop training\n",
        "\n",
        "for items in range( int( maxIter)):\n",
        "    if items % updateInterval == 0:\n",
        "        q = model.predict( x, verbose= 0)\n",
        "        p = target_distribution( q)  # update aux target distribution p\n",
        "        \n",
        "        # eval clustering performance\n",
        "        yPred = q.argmax( 1)\n",
        "        if y is not None:\n",
        "            acc = np.round( metrics.acc( y, yPred), 5)\n",
        "\n",
        "    idx = indArray[ index * BATCH: min( (index+1) * BATCH, x.shape[0])]\n",
        "    loss = model.train_on_batch( x= x[ idx], y= p[ idx])\n",
        "    index = index + 1 if (index + 1) * BATCH <= x.shape[0] else 0"
      ],
      "execution_count": 0,
      "outputs": []
    },
    {
      "cell_type": "code",
      "metadata": {
        "id": "L25GV6tXBv72",
        "colab_type": "code",
        "colab": {}
      },
      "source": [
        "# POSSIBLE TO SWAP KMEAN FOR KDTREE IF DOESN'T WORK??\n",
        "#\n",
        "# kdt = KDTree( x, leaf_size= 2048)\n",
        "# dist, ind = kdt.query( sample, k= 11)\n",
        "# \n",
        "# print( ind)\n",
        "# print( dist)"
      ],
      "execution_count": 0,
      "outputs": []
    },
    {
      "cell_type": "code",
      "metadata": {
        "id": "Ba1efQoWBZwF",
        "colab_type": "code",
        "colab": {}
      },
      "source": [
        "import joblib\n",
        "\n",
        "filename = 'stretchModel.sav'\n",
        "\n",
        "joblib.dump( kdt, filename)"
      ],
      "execution_count": 0,
      "outputs": []
    },
    {
      "cell_type": "code",
      "metadata": {
        "id": "gDGiXG6KI8HH",
        "colab_type": "code",
        "colab": {}
      },
      "source": [
        "import seaborn as sns\n",
        "import sklearn.metrics\n",
        "import matplotlib.pyplot as plt\n",
        "sns.set( font_scale= 3)\n",
        "confucius = sklearn.metrics.confusion_matrix( y, yPred)\n",
        "\n",
        "plt.figure( figsize= (16, 14))\n",
        "sns.heatmap( confucius, annot= True, fmt= \"d\", annot_kws= {\"size\": 20});\n",
        "plt.title( \"Confusion matrix\", fontsize= 30)\n",
        "plt.ylabel( 'True label', fontsize= 25)\n",
        "plt.xlabel( 'Clustering label', fontsize= 25)\n",
        "plt.show()"
      ],
      "execution_count": 0,
      "outputs": []
    }
  ]
}